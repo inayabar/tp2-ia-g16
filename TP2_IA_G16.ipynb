{
  "nbformat": 4,
  "nbformat_minor": 0,
  "metadata": {
    "colab": {
      "name": "TP2-IA-G16.ipynb",
      "provenance": [],
      "collapsed_sections": [],
      "include_colab_link": true
    },
    "kernelspec": {
      "name": "python3",
      "display_name": "Python 3"
    },
    "language_info": {
      "name": "python"
    }
  },
  "cells": [
    {
      "cell_type": "markdown",
      "metadata": {
        "id": "view-in-github",
        "colab_type": "text"
      },
      "source": [
        "<a href=\"https://colab.research.google.com/github/inayabar/tp2-ia-g16/blob/main/TP2_IA_G16.ipynb\" target=\"_parent\"><img src=\"https://colab.research.google.com/assets/colab-badge.svg\" alt=\"Open In Colab\"/></a>"
      ]
    },
    {
      "cell_type": "code",
      "metadata": {
        "colab": {
          "base_uri": "https://localhost:8080/"
        },
        "id": "ySW_Ccrsa4EK",
        "outputId": "35ec7b96-7d9f-4970-8a01-784bf306e5df"
      },
      "source": [
        "!pip install deap"
      ],
      "execution_count": null,
      "outputs": [
        {
          "output_type": "stream",
          "text": [
            "Collecting deap\n",
            "\u001b[?25l  Downloading https://files.pythonhosted.org/packages/99/d1/803c7a387d8a7e6866160b1541307f88d534da4291572fb32f69d2548afb/deap-1.3.1-cp37-cp37m-manylinux2010_x86_64.whl (157kB)\n",
            "\r\u001b[K     |██                              | 10kB 12.3MB/s eta 0:00:01\r\u001b[K     |████▏                           | 20kB 16.2MB/s eta 0:00:01\r\u001b[K     |██████▏                         | 30kB 10.9MB/s eta 0:00:01\r\u001b[K     |████████▎                       | 40kB 8.9MB/s eta 0:00:01\r\u001b[K     |██████████▍                     | 51kB 5.2MB/s eta 0:00:01\r\u001b[K     |████████████▍                   | 61kB 5.8MB/s eta 0:00:01\r\u001b[K     |██████████████▌                 | 71kB 5.4MB/s eta 0:00:01\r\u001b[K     |████████████████▋               | 81kB 5.8MB/s eta 0:00:01\r\u001b[K     |██████████████████▋             | 92kB 4.6MB/s eta 0:00:01\r\u001b[K     |████████████████████▊           | 102kB 5.0MB/s eta 0:00:01\r\u001b[K     |██████████████████████▉         | 112kB 5.0MB/s eta 0:00:01\r\u001b[K     |████████████████████████▉       | 122kB 5.0MB/s eta 0:00:01\r\u001b[K     |███████████████████████████     | 133kB 5.0MB/s eta 0:00:01\r\u001b[K     |█████████████████████████████   | 143kB 5.0MB/s eta 0:00:01\r\u001b[K     |███████████████████████████████ | 153kB 5.0MB/s eta 0:00:01\r\u001b[K     |████████████████████████████████| 163kB 5.0MB/s \n",
            "\u001b[?25hRequirement already satisfied: numpy in /usr/local/lib/python3.7/dist-packages (from deap) (1.19.5)\n",
            "Installing collected packages: deap\n",
            "Successfully installed deap-1.3.1\n"
          ],
          "name": "stdout"
        }
      ]
    },
    {
      "cell_type": "code",
      "metadata": {
        "colab": {
          "base_uri": "https://localhost:8080/"
        },
        "id": "qKQesjXMbBIq",
        "outputId": "2800dfe4-14c0-42b0-da09-1afba681ed44"
      },
      "source": [
        "import random\n",
        "import matplotlib.pyplot as plt\n",
        "import functools\n",
        "import numpy as np\n",
        "import pprint\n",
        "\n",
        "from deap import base\n",
        "from deap import creator\n",
        "from deap import tools\n",
        "\n",
        "print(\"Librerías importadas\")"
      ],
      "execution_count": null,
      "outputs": [
        {
          "output_type": "stream",
          "text": [
            "Librerías importadas\n"
          ],
          "name": "stdout"
        }
      ]
    },
    {
      "cell_type": "code",
      "metadata": {
        "id": "wtBv2r-aH0Kq"
      },
      "source": [
        "# Modelado del INDIVIDUO: Un individuo estará representado por un array de cuatro posiciones, donde \n",
        "# cada una de esas posiciones representa a un chico en particular (el índice que representa cada \n",
        "# chico está fijado). Así, un individuo tendrá la siguiente forma:\n",
        "#       [Juan, Daniel, Nicolás, Ricardo]\n",
        "# A su vez, cada chico (elemento de este array) estará modelado por otro array, esta vez, de cinco elementos\n",
        "# posiciones, donde cada posición representará uno de los cinco rasgos o características de cada chico. \n",
        "# Así, por ejemplo: \n",
        "#       [['00', '11', '01', '00', '11'], Daniel, Nicolás, Ricardo]\n",
        "# Significa que Juan:\n",
        "#   - Tiene una remera de color rojo\n",
        "#   - Está ubicado en la primera posición \n",
        "#   - Su género de películas favoritas es comedia\n",
        "#   - Su comida favorita son las papas fritas\n",
        "#   - Tiene 14 años \n",
        "\n",
        "# Tabla de correspondencias: '00' - '01' - '10' - '11'\n",
        "# - Remera = {negra, azul, verde, roja}\n",
        "# - Ubicación = {primera posición, segunda posición, tercera posición, cuarta posición}\n",
        "# - Género (película) = {acción, comedia, horror, thriller}\n",
        "# - Comida = {papas fritas, galletitas dulces, galletitas saladas, pochoclos}\n",
        "# - Edad = {11, 12, 13, 14}"
      ],
      "execution_count": null,
      "outputs": []
    },
    {
      "cell_type": "code",
      "metadata": {
        "id": "p6eRQ7dYbIlk",
        "colab": {
          "base_uri": "https://localhost:8080/"
        },
        "outputId": "007a936e-3bdb-4fee-cb84-83da76fc01b5"
      },
      "source": [
        "### Constantes ###\n",
        "\n",
        "# Cantidad de Individuos en la Población\n",
        "CANT_INDIVIDUOS_POBLACION = 4  \n",
        "CANT_PROPIEDADES_POR_INDIVIDUO = 5\n",
        "CANT_REGLAS = 13\n",
        "\n",
        "[JUAN, DANIEL, NICOLAS, RICARDO] = [0, 1, 2, 3]\n",
        "[COLOR_REMERA, UBICACION, GENERO_PELICULA, COMIDA, EDAD] = [0, 1, 2, 3, 4]\n",
        "\n",
        "[ACCION, COMEDIA, HORROR, THRILLER] = ['00', '01', '10', '11']\n",
        "[UBICACION_1, UBICACION_2, UBICACION_3, UBICACION_4] = ['00', '01', '10', '11']\n",
        "[NEGRO, AZUL, VERDE, ROJO] = ['00', '01', '10', '11']\n",
        "[EDAD_11, EDAD_12, EDAD_13, EDAD_14] = ['00', '01', '10', '11']\n",
        "\n",
        "NOMBRES = [ 'Juan', 'Daniel', 'Nicolas', 'Ricardo' ]\n",
        "COLORES = [ 'negro', 'azul', 'verde', 'rojo' ]\n",
        "UBICACIONES = [0,1,2,3]\n",
        "GENEROS  = [ 'accion', 'comedia', 'horror', 'thriller' ]\n",
        "COMIDAS  = [ 'papas fritas', 'galletitas dulces', 'galletitas saladas', 'pochoclos']\n",
        "EDADES    = [ 11,12,13,14 ]\n",
        "\n",
        "binarios = ['00', '01', '10', '11']\n",
        "\n",
        "print('Constantes cargadas correctamente.')"
      ],
      "execution_count": null,
      "outputs": [
        {
          "output_type": "stream",
          "text": [
            "Constantes cargadas correctamente.\n"
          ],
          "name": "stdout"
        }
      ]
    },
    {
      "cell_type": "code",
      "metadata": {
        "id": "71Cb0cQjH3zu",
        "colab": {
          "base_uri": "https://localhost:8080/"
        },
        "outputId": "60f2309e-ea53-438e-bd7a-45bec41eb6f2"
      },
      "source": [
        "### Accessors ###\n",
        "def ubicacion(individual, name):\n",
        "  return individual[name][UBICACION]\n",
        "\n",
        "def color_remera(individual, name): \n",
        "  return individual[name][COLOR_REMERA]\n",
        "\n",
        "def genero_pelicula(individual, name): \n",
        "  return individual[name][GENERO_PELICULA]\n",
        "\n",
        "def comida(individual, name): \n",
        "  return individual[name][COMIDA]\n",
        "\n",
        "def edad(individual, name): \n",
        "  return individual[name][EDAD]\n",
        "\n",
        "print('Accessors cargados correctamente')"
      ],
      "execution_count": null,
      "outputs": [
        {
          "output_type": "stream",
          "text": [
            "Accessors cargados correctamente\n"
          ],
          "name": "stdout"
        }
      ]
    },
    {
      "cell_type": "code",
      "metadata": {
        "colab": {
          "base_uri": "https://localhost:8080/"
        },
        "id": "R1sHhcT6qleC",
        "outputId": "a3ec758f-d918-4555-81ea-904900e186d8"
      },
      "source": [
        "### Helpers ###\n",
        "def estaEnUnExtremo(ubicacion):\n",
        "  return ubicacion == UBICACION_1 or ubicacion == UBICACION_4\n",
        "\n",
        "def leGustaLaComida(tipoComida, chico):\n",
        "  return chico[COMIDA] == binarios[COMIDAS.index(tipoComida)]\n",
        "\n",
        "def tieneRemera(colorRemera, chico):\n",
        "  return chico[COLOR_REMERA] == binarios[COLORES.index(colorRemera)]\n",
        "\n",
        "def miraElGenero(genero, chico):\n",
        "  return chico[GENERO_PELICULA] == binarios[GENEROS.index(genero)]\n",
        "\n",
        "def estaEnLaUbicacion(posicion, chico):\n",
        "  return chico[UBICACION] == binarios[UBICACIONES.index(posicion)]\n",
        "\n",
        "def tieneEdad(edad, chico):\n",
        "  return chico[EDAD] == binarios[EDADES.index(edad)]\n",
        "\n",
        "def findIndexBy(individual, func):\n",
        "    for i in range(len(individual)):\n",
        "        if func(individual[i]):\n",
        "            return i\n",
        "    return -1\n",
        "\n",
        "def flat_map(f, xs):\n",
        "    ys = []\n",
        "    for x in xs:\n",
        "        ys.extend(f(x))\n",
        "    return ys\n",
        "\n",
        "def flat_array(array):\n",
        "  return flat_map(lambda x:x, array)\n",
        "\n",
        "print('Helpers cargados correctamente.')\n",
        "\n",
        "def convertirAJson(chico):\n",
        "  color = COLORES[binarios.index(chico[0])]\n",
        "  ubicacion = UBICACIONES[binarios.index(chico[1])]\n",
        "  generoPelicula = GENEROS[binarios.index(chico[2])]\n",
        "  comida = COMIDAS[binarios.index(chico[3])]\n",
        "  edad = EDADES[binarios.index(chico[4])]\n",
        "  return {'ubicacion': ubicacion, 'color': color, 'genero_pelicula':generoPelicula, 'comida':comida, 'edad': edad}\n",
        "\n",
        "def parsearReglas(individual):\n",
        "  return {\n",
        "    'juan_Esta_En_Uno_De_Los_Extremos': juanEstaEnUnoDeLosExtremos(individual),\n",
        "    'Camisa negra a la izquierda del mas joven':elChicoDeCamisaNegraEstaALaIzquierdaDelMasJoven(individual),\n",
        "    'A juan le gustan las peliculas de terror':aJuanLeGustanLasPeliculasDeTerror(individual),\n",
        "    'El chico de 14 esta en la 3 posicion':elChicoDeCatorceAniosEstaEnLaTerceraPosicion(individual),\n",
        "    'El de camisa roja esta entre el de 13 y el de peliculas de accion':elChicoDeCamisaRojaEstaEntreChicoDeTreceYChicoPeliculasAccion(individual),\n",
        "    'daniel mira peliculas de suspenso':danielMiraPeliculasDeSuspenso(individual),\n",
        "    'el que come galletitas dulces esta en un extremo':galletitasDulcesEstaEnUnExtremo(individual),\n",
        "    'el de remera negra esta a la izquierda del que mira suspenso':remeraNegraALaIzquierdaDeSuspenso(individual),\n",
        "    'el que come galletitas saladas esta a la derecha del de comedia':chicoQueComeGalletitasSaladasEstaALaDerechaDeComedia(individual),\n",
        "    'remera Roja Entre Chico Que Come Pochoclos Y Nicolas':remeraRojaEntreChicoQueComePochoclosYNicolas(individual),\n",
        "    'el que mira suspenso esta en un extremo':suspensoEstaEnUnoDeLosExtremos(individual),\n",
        "    'nicolas Esta Entre Juan Y Daniel':nicolasEstaEntreJuanYDaniel(individual),\n",
        "    'primera Posicion tiene remera verda':primeraPosicionCamisetaVerde(individual)               \n",
        "  }\n",
        "\n",
        "def parsearMejorIndividuo(individuo40bits):\n",
        "  # Conversión de array de 40 bits a un array de 4 arrays de 10 bits cada uno\n",
        "  invididuoAgrupadoPorChico = parsearIndividuo(individuo40bits)\n",
        "  individual = list(map(parsearChico, invididuoAgrupadoPorChico))\n",
        "  chicos = list(map(convertirAJson, individual))\n",
        "  return {\n",
        "      'Juan': chicos[0],\n",
        "      'Daniel': chicos[1],\n",
        "      'Nicolas': chicos[2],\n",
        "      'Ricardo': chicos[3],\n",
        "      'reglas': parsearReglas(individual)\n",
        "  }"
      ],
      "execution_count": null,
      "outputs": [
        {
          "output_type": "stream",
          "text": [
            "Helpers cargados correctamente.\n"
          ],
          "name": "stdout"
        }
      ]
    },
    {
      "cell_type": "code",
      "metadata": {
        "colab": {
          "base_uri": "https://localhost:8080/",
          "height": 339
        },
        "id": "1Sle7LVP49n6",
        "outputId": "bb10d070-c099-417d-d824-a5da0019f161"
      },
      "source": [
        "pp = pprint.PrettyPrinter(indent=4)\n",
        "ejemplo =  [1, 0, 0, 0, 1, 0, 0, 0, 1, 0, 0, 0, 1, 1, 1, 1, 0, 0, 1, 0, 1, 0, 1, 0, 1, 1, 1, 1, 1, 1, 1, 0, 1, 1, 0, 0, 0, 1, 0, 0]\n",
        "pp.pprint(parsearMejorIndividuo(ejemplo))"
      ],
      "execution_count": null,
      "outputs": [
        {
          "output_type": "error",
          "ename": "NameError",
          "evalue": "ignored",
          "traceback": [
            "\u001b[0;31m---------------------------------------------------------------------------\u001b[0m",
            "\u001b[0;31mNameError\u001b[0m                                 Traceback (most recent call last)",
            "\u001b[0;32m<ipython-input-7-46253a1626b0>\u001b[0m in \u001b[0;36m<module>\u001b[0;34m()\u001b[0m\n\u001b[1;32m      1\u001b[0m \u001b[0mpp\u001b[0m \u001b[0;34m=\u001b[0m \u001b[0mpprint\u001b[0m\u001b[0;34m.\u001b[0m\u001b[0mPrettyPrinter\u001b[0m\u001b[0;34m(\u001b[0m\u001b[0mindent\u001b[0m\u001b[0;34m=\u001b[0m\u001b[0;36m4\u001b[0m\u001b[0;34m)\u001b[0m\u001b[0;34m\u001b[0m\u001b[0;34m\u001b[0m\u001b[0m\n\u001b[1;32m      2\u001b[0m \u001b[0mejemplo\u001b[0m \u001b[0;34m=\u001b[0m  \u001b[0;34m[\u001b[0m\u001b[0;36m1\u001b[0m\u001b[0;34m,\u001b[0m \u001b[0;36m0\u001b[0m\u001b[0;34m,\u001b[0m \u001b[0;36m0\u001b[0m\u001b[0;34m,\u001b[0m \u001b[0;36m0\u001b[0m\u001b[0;34m,\u001b[0m \u001b[0;36m1\u001b[0m\u001b[0;34m,\u001b[0m \u001b[0;36m0\u001b[0m\u001b[0;34m,\u001b[0m \u001b[0;36m0\u001b[0m\u001b[0;34m,\u001b[0m \u001b[0;36m0\u001b[0m\u001b[0;34m,\u001b[0m \u001b[0;36m1\u001b[0m\u001b[0;34m,\u001b[0m \u001b[0;36m0\u001b[0m\u001b[0;34m,\u001b[0m \u001b[0;36m0\u001b[0m\u001b[0;34m,\u001b[0m \u001b[0;36m0\u001b[0m\u001b[0;34m,\u001b[0m \u001b[0;36m1\u001b[0m\u001b[0;34m,\u001b[0m \u001b[0;36m1\u001b[0m\u001b[0;34m,\u001b[0m \u001b[0;36m1\u001b[0m\u001b[0;34m,\u001b[0m \u001b[0;36m1\u001b[0m\u001b[0;34m,\u001b[0m \u001b[0;36m0\u001b[0m\u001b[0;34m,\u001b[0m \u001b[0;36m0\u001b[0m\u001b[0;34m,\u001b[0m \u001b[0;36m1\u001b[0m\u001b[0;34m,\u001b[0m \u001b[0;36m0\u001b[0m\u001b[0;34m,\u001b[0m \u001b[0;36m1\u001b[0m\u001b[0;34m,\u001b[0m \u001b[0;36m0\u001b[0m\u001b[0;34m,\u001b[0m \u001b[0;36m1\u001b[0m\u001b[0;34m,\u001b[0m \u001b[0;36m0\u001b[0m\u001b[0;34m,\u001b[0m \u001b[0;36m1\u001b[0m\u001b[0;34m,\u001b[0m \u001b[0;36m1\u001b[0m\u001b[0;34m,\u001b[0m \u001b[0;36m1\u001b[0m\u001b[0;34m,\u001b[0m \u001b[0;36m1\u001b[0m\u001b[0;34m,\u001b[0m \u001b[0;36m1\u001b[0m\u001b[0;34m,\u001b[0m \u001b[0;36m1\u001b[0m\u001b[0;34m,\u001b[0m \u001b[0;36m1\u001b[0m\u001b[0;34m,\u001b[0m \u001b[0;36m0\u001b[0m\u001b[0;34m,\u001b[0m \u001b[0;36m1\u001b[0m\u001b[0;34m,\u001b[0m \u001b[0;36m1\u001b[0m\u001b[0;34m,\u001b[0m \u001b[0;36m0\u001b[0m\u001b[0;34m,\u001b[0m \u001b[0;36m0\u001b[0m\u001b[0;34m,\u001b[0m \u001b[0;36m0\u001b[0m\u001b[0;34m,\u001b[0m \u001b[0;36m1\u001b[0m\u001b[0;34m,\u001b[0m \u001b[0;36m0\u001b[0m\u001b[0;34m,\u001b[0m \u001b[0;36m0\u001b[0m\u001b[0;34m]\u001b[0m\u001b[0;34m\u001b[0m\u001b[0;34m\u001b[0m\u001b[0m\n\u001b[0;32m----> 3\u001b[0;31m \u001b[0mpp\u001b[0m\u001b[0;34m.\u001b[0m\u001b[0mpprint\u001b[0m\u001b[0;34m(\u001b[0m\u001b[0mparsearMejorIndividuo\u001b[0m\u001b[0;34m(\u001b[0m\u001b[0mejemplo\u001b[0m\u001b[0;34m)\u001b[0m\u001b[0;34m)\u001b[0m\u001b[0;34m\u001b[0m\u001b[0;34m\u001b[0m\u001b[0m\n\u001b[0m",
            "\u001b[0;32m<ipython-input-6-658549d3b6ab>\u001b[0m in \u001b[0;36mparsearMejorIndividuo\u001b[0;34m(individuo40bits)\u001b[0m\n\u001b[1;32m     62\u001b[0m \u001b[0;32mdef\u001b[0m \u001b[0mparsearMejorIndividuo\u001b[0m\u001b[0;34m(\u001b[0m\u001b[0mindividuo40bits\u001b[0m\u001b[0;34m)\u001b[0m\u001b[0;34m:\u001b[0m\u001b[0;34m\u001b[0m\u001b[0;34m\u001b[0m\u001b[0m\n\u001b[1;32m     63\u001b[0m   \u001b[0;31m# Conversión de array de 40 bits a un array de 4 arrays de 10 bits cada uno\u001b[0m\u001b[0;34m\u001b[0m\u001b[0;34m\u001b[0m\u001b[0;34m\u001b[0m\u001b[0m\n\u001b[0;32m---> 64\u001b[0;31m   \u001b[0minvididuoAgrupadoPorChico\u001b[0m \u001b[0;34m=\u001b[0m \u001b[0mparsearIndividuo\u001b[0m\u001b[0;34m(\u001b[0m\u001b[0mindividuo40bits\u001b[0m\u001b[0;34m)\u001b[0m\u001b[0;34m\u001b[0m\u001b[0;34m\u001b[0m\u001b[0m\n\u001b[0m\u001b[1;32m     65\u001b[0m   \u001b[0mindividual\u001b[0m \u001b[0;34m=\u001b[0m \u001b[0mlist\u001b[0m\u001b[0;34m(\u001b[0m\u001b[0mmap\u001b[0m\u001b[0;34m(\u001b[0m\u001b[0mparsearChico\u001b[0m\u001b[0;34m,\u001b[0m \u001b[0minvididuoAgrupadoPorChico\u001b[0m\u001b[0;34m)\u001b[0m\u001b[0;34m)\u001b[0m\u001b[0;34m\u001b[0m\u001b[0;34m\u001b[0m\u001b[0m\n\u001b[1;32m     66\u001b[0m   \u001b[0mchicos\u001b[0m \u001b[0;34m=\u001b[0m \u001b[0mlist\u001b[0m\u001b[0;34m(\u001b[0m\u001b[0mmap\u001b[0m\u001b[0;34m(\u001b[0m\u001b[0mconvertirAJson\u001b[0m\u001b[0;34m,\u001b[0m \u001b[0mindividual\u001b[0m\u001b[0;34m)\u001b[0m\u001b[0;34m)\u001b[0m\u001b[0;34m\u001b[0m\u001b[0;34m\u001b[0m\u001b[0m\n",
            "\u001b[0;31mNameError\u001b[0m: name 'parsearIndividuo' is not defined"
          ]
        }
      ]
    },
    {
      "cell_type": "code",
      "metadata": {
        "id": "9xtoeow3MqKa"
      },
      "source": [
        "### Reglas ###\n",
        "\n",
        "# Regla N°1: Juan está en uno de los extremos.\n",
        "def juanEstaEnUnoDeLosExtremos(individual):\n",
        "  return ubicacion(individual, JUAN) == UBICACION_1 or ubicacion(individual, JUAN) == UBICACION_4\n",
        "\n",
        "# Regla N°2: El niño que lleva la camisa negra está en algún lugar a la izquierda del niño más joven.\n",
        "def elChicoDeCamisaNegraEstaALaIzquierdaDelMasJoven(individual): \n",
        "  indiceCamisaNegra = findIndexBy(individual, functools.partial(tieneRemera, 'negro'))\n",
        "  indiceMasJoven = findIndexBy(individual, functools.partial(tieneEdad, 11))\n",
        "  return indiceCamisaNegra < indiceMasJoven\n",
        "\n",
        "# Regla N°3: A Juan le gustan las películas de terror\n",
        "def aJuanLeGustanLasPeliculasDeTerror(individual):\n",
        "  return genero_pelicula(individual, JUAN) == HORROR\n",
        "\n",
        "# Regla N°4: El chico de 14 años está en la tercera posición\n",
        "def elChicoDeCatorceAniosEstaEnLaTerceraPosicion(individual):\n",
        "  indiceTerceraPosicion = findIndexBy(individual, functools.partial(estaEnLaUbicacion, 2))\n",
        "  chicoTerceraPosicion = individual[indiceTerceraPosicion]\n",
        "  return tieneEdad(14, chicoTerceraPosicion)\n",
        "\n",
        "# Regla N°5: El chico que lleva la camiseta roja está en algún lugar entre el chico \n",
        "# de 13 años y el que le gustan las películas de acción, en ese orden.\n",
        "def elChicoDeCamisaRojaEstaEntreChicoDeTreceYChicoPeliculasAccion(individual):\n",
        "  indiceCamisaRoja = findIndexBy(individual, functools.partial(tieneRemera, 'rojo'))\n",
        "  indiceChicoDeTrece = findIndexBy(individual, functools.partial(tieneEdad, 13))\n",
        "  indicePeliculasAccion = findIndexBy(individual, functools.partial(miraElGenero, 'accion'))\n",
        "  return indiceChicoDeTrece < indiceCamisaRoja < indicePeliculasAccion\n",
        "\n",
        "# Regla N°6: A Daniel le gustan las películas de suspenso.\n",
        "def danielMiraPeliculasDeSuspenso(individual):\n",
        "  return genero_pelicula(individual, DANIEL) == binarios[GENEROS.index('thriller')]\n",
        "\n",
        "# Regla N°7: El chico que se va a comer galletitas dulces está en uno de los extremos.\n",
        "def galletitasDulcesEstaEnUnExtremo(individual):\n",
        "  indiceGalletitasDulces = findIndexBy(individual, functools.partial(leGustaLaComida, 'galletitas dulces'))\n",
        "  ubicacion = individual[indiceGalletitasDulces][UBICACION]\n",
        "  return estaEnUnExtremo(ubicacion)\n",
        "\n",
        "# Regla N°8: El chico que lleva la camiseta negra está exactamente a la izquierda del que le gustan las películas de suspenso.\n",
        "def remeraNegraALaIzquierdaDeSuspenso(individual):\n",
        "  indiceRemeraNegra = findIndexBy(individual, functools.partial(tieneRemera,'negro'))\n",
        "\n",
        "  # valido para evitar out of bounds\n",
        "  if indiceRemeraNegra == (CANT_INDIVIDUOS_POBLACION - 1):\n",
        "    return False\n",
        "  return individual[indiceRemeraNegra + 1][GENERO_PELICULA] == binarios[GENEROS.index('thriller')]\n",
        "  \n",
        "# Regla N°9: El chico que se va a comer galletitas saladas está exactamente a la derecha del chico al que le gustan las películas de comedia.\n",
        "def chicoQueComeGalletitasSaladasEstaALaDerechaDeComedia(individual):\n",
        "  indiceGalletitasSaladas = findIndexBy(individual, functools.partial(leGustaLaComida, 'galletitas saladas'))\n",
        "\n",
        "  # valido para evitar out of bounds\n",
        "  if indiceGalletitasSaladas == 0:\n",
        "    return False\n",
        "  return individual[indiceGalletitasSaladas - 1][GENERO_PELICULA] == binarios[GENEROS.index('comedia')]\n",
        "\n",
        "# Regla N°10: El chico que lleva la camiseta roja está en algún lugar entre el chico que va a comer pochoclos y Nicolás, en ese orden.\n",
        "def remeraRojaEntreChicoQueComePochoclosYNicolas(individual):\n",
        "  indiceRemeraRoja = findIndexBy(individual, functools.partial(tieneRemera, 'rojo'))\n",
        "  if indiceRemeraRoja == (CANT_INDIVIDUOS_POBLACION - 1) or indiceRemeraRoja == 0: # Esta en un extremo\n",
        "    return False\n",
        "  personaAnterior = individual[indiceRemeraRoja-1]\n",
        "  personaPosterior = individual[indiceRemeraRoja+1]\n",
        "  return (personaAnterior == leGustaLaComida('pochoclos', personaAnterior)) and (personaPosterior == NICOLAS)\n",
        "\n",
        "# Regla N°11: En uno de los extremos está el chico al que le gustan las películas de suspenso.\n",
        "def suspensoEstaEnUnoDeLosExtremos(individual):\n",
        "  indiceSuspenso = findIndexBy(individual, functools.partial(miraElGenero, 'thriller'))\n",
        "  ubicacion = individual[indiceSuspenso][UBICACION]\n",
        "  return estaEnUnExtremo(ubicacion)\n",
        "\n",
        "# Regla N°12: Nicolás está en algún lugar entre Juan y Daniel, en ese orden.\n",
        "def nicolasEstaEntreJuanYDaniel(individual):\n",
        "  ubicacionNicolas = ubicacion(individual, NICOLAS)\n",
        "  ubicacionJuan = ubicacion(individual, JUAN)\n",
        "  ubicacionDaniel = ubicacion(individual, DANIEL)\n",
        "  return ubicacionNicolas > ubicacionJuan and ubicacionNicolas < ubicacionDaniel\n",
        "\n",
        "# Regla N°13: En la primera posición está el niño con la camiseta verde.\n",
        "def primeraPosicionCamisetaVerde(individual):\n",
        "  indiceRemeraVerde = findIndexBy(individual, functools.partial(tieneRemera, 'verde'))\n",
        "  indicePrimeraPosicion = findIndexBy(individual, functools.partial(estaEnLaUbicacion, 0))\n",
        "  return indiceRemeraVerde == indicePrimeraPosicion\n",
        "\n",
        "print(\"Reglas cargadas correctamente.\")"
      ],
      "execution_count": null,
      "outputs": []
    },
    {
      "cell_type": "code",
      "metadata": {
        "id": "ft77Je5N7UxF"
      },
      "source": [
        "### Funcion de aptitud (fitness) ###\n",
        "import itertools\n",
        "\n",
        "def parsearIndividuo(individuo):\n",
        "  for i in range(0, len(individuo), 10):\n",
        "    yield individuo[i:i + 10]\n",
        "\n",
        "def parsearChico(chico):\n",
        "  result = []\n",
        "  lastIndex = 0\n",
        "  for _ in itertools.repeat(None, CANT_PROPIEDADES_POR_INDIVIDUO):\n",
        "    propiedad = ''\n",
        "    propiedad += str(chico[lastIndex])\n",
        "    propiedad += str(chico[lastIndex + 1])\n",
        "    lastIndex = lastIndex + 2\n",
        "    result.append(propiedad)\n",
        "  return(result)\n",
        "\n",
        "def funcionAptitud(individuo40bits):\n",
        "  # Conversión de array de 40 bits a un array de 4 arrays de 10 bits cada uno\n",
        "  invididuoAgrupadoPorChico = parsearIndividuo(individuo40bits)\n",
        "  individual = list(map(parsearChico, invididuoAgrupadoPorChico))\n",
        "\n",
        "  reglasAplicadas = [\n",
        "    juanEstaEnUnoDeLosExtremos(individual),\n",
        "    elChicoDeCamisaNegraEstaALaIzquierdaDelMasJoven(individual),\n",
        "    aJuanLeGustanLasPeliculasDeTerror(individual),\n",
        "    elChicoDeCatorceAniosEstaEnLaTerceraPosicion(individual),\n",
        "    elChicoDeCamisaRojaEstaEntreChicoDeTreceYChicoPeliculasAccion(individual),\n",
        "    danielMiraPeliculasDeSuspenso(individual),\n",
        "    galletitasDulcesEstaEnUnExtremo(individual),\n",
        "    remeraNegraALaIzquierdaDeSuspenso(individual),\n",
        "    chicoQueComeGalletitasSaladasEstaALaDerechaDeComedia(individual),\n",
        "    remeraRojaEntreChicoQueComePochoclosYNicolas(individual),\n",
        "    suspensoEstaEnUnoDeLosExtremos(individual),\n",
        "    nicolasEstaEntreJuanYDaniel(individual),\n",
        "    primeraPosicionCamisetaVerde(individual)               \n",
        "  ]\n",
        "  \n",
        "  suma = sum(list(map(lambda validRule: 1 if validRule else 0, reglasAplicadas)))\n",
        "  return suma,  \n",
        "\n",
        "print(\"Funcion de fitness cargada correctamente.\")    "
      ],
      "execution_count": null,
      "outputs": []
    },
    {
      "cell_type": "code",
      "metadata": {
        "id": "A6PdoCN3HTiz"
      },
      "source": [
        "### Creación de instancia toolbox ###\n",
        "toolbox = base.Toolbox()"
      ],
      "execution_count": null,
      "outputs": []
    },
    {
      "cell_type": "code",
      "metadata": {
        "id": "c0ouNDrYFvle"
      },
      "source": [
        "### Definición de operadores genéticos (POR DEFAULT) ### \n",
        "\n",
        "# Métodos para los peradores genéticos \n",
        "toolbox.register(\"select\", tools.selTournament, tournsize=3)\n",
        "toolbox.register(\"crossover\", tools.cxOnePoint)\n",
        "toolbox.register(\"mutate\", tools.mutFlipBit, indpb=0.5)"
      ],
      "execution_count": null,
      "outputs": []
    },
    {
      "cell_type": "code",
      "metadata": {
        "id": "fhxQ5s_fbbwf"
      },
      "source": [
        "### Definición de operadores genéticos (SLIDERS) ### \n",
        "\n",
        "# Definicion del tipo de seleccion y cruzamiento \n",
        "tipo_seleccion = 'Ranking' #@param [\"Azar\", \"Torneo\", \"Ranking\", \"Ruleta\", \"Control s/Número Esperado\"]\n",
        "tipo_cruzamiento = 'Simple-1Punto' #@param [\"Simple-1Punto\", \"Simple-2Puntos\", \"Azar\"]\n",
        "tipo_mutacion = 'MutFliptBit' #@param [\"MutFliptBit\", \"MutGaussian\"]\n",
        "\n",
        "# Establecer tipo de seleccion\n",
        "if tipo_seleccion == 'Torneo':\n",
        "  toolbox.register(\"select\", tools.selTournament, tournsize=3)\n",
        "elif tipo_seleccion == 'Ranking':\n",
        "  toolbox.register(\"select\", tools.selBest)\n",
        "elif tipo_seleccion == 'Ruleta':\n",
        "  toolbox.register(\"select\", tools.selRoulette)\n",
        "elif tipo_seleccion == 'Control s/Número Esperado':\n",
        "  toolbox.register(\"select\", tools.selStochasticUniversalSampling)\n",
        "else:\n",
        "  toolbox.register(\"select\", tools.selRandom)\n",
        "\n",
        "# Establecer tipo de cruza\n",
        "if tipo_cruzamiento == 'Simple-1Punto':\n",
        "  toolbox.register(\"crossover\", tools.cxOnePoint)\n",
        "elif tipo_cruzamiento == 'Simple-2Puntos':\n",
        "  toolbox.register(\"crossover\",  tools.cxTwoPoint)  \n",
        "else:\n",
        "  toolbox.register(\"crossover\", tools.cxUniform, indpb=0.5)\n",
        "\n",
        "# Establecer tipo de mutación\n",
        "if tipo_mutacion == 'MutFliptBit':\n",
        "  toolbox.register(\"mutate\", tools.mutFlipBit, indpb=0.5)\n",
        "if tipo_mutacion == 'MutGaussian':\n",
        "  toolbox.register(\"mutate\", tools.mutGaussian, mu=0.0, sigma=0.2, indpb=0.2)\n",
        "\n",
        "# Probabilidad de cruza\n",
        "P_CROSSOVER = 0.9 #@param {type:\"slider\", min:0, max:1, step:0.1}\n",
        "\n",
        "# Probabilidad del Mutación \n",
        "P_MUTATION = 0.4 #@param {type:\"slider\", min:0, max:1, step:0.1}\n",
        "\n",
        "# Establecer tipo de mutación\n",
        "P_MUTATION_BIT = 0.2 #@param {type:\"slider\", min:0, max:1, step:0.1}\n",
        "toolbox.register(\"mutate\", tools.mutFlipBit, indpb=P_MUTATION_BIT)\n",
        "\n",
        "# Variables del algoritmo genético\n",
        "# number of individuals in population\n",
        "POPULATION_SIZE = 50 #@param {type:\"slider\", min:10, max:100, step:10}\n",
        "# max number of generation for stopping condition\n",
        "MAX_GENERATIONS = 500 #@param {type:\"slider\", min:50, max:1000, step:50}"
      ],
      "execution_count": null,
      "outputs": []
    },
    {
      "cell_type": "code",
      "metadata": {
        "id": "Fdx_3jtQCnc3"
      },
      "source": [
        "# Definiciones del algoritmo genético\n",
        "\n",
        "# Descomentar para tener siempre los mismos resultados (para pruebas)\n",
        "# RANDOM_SEED = 42\n",
        "# random.seed(RANDOM_SEED)\n",
        "\n",
        "# Registramos la función auxiliar zeroOrOne al toolbox\n",
        "toolbox.register(\"zeroOrOne\", random.randint, 0, 1)\n",
        "\n",
        "# Creamos la clase FitnessMax \n",
        "creator.create(\"FitnessMax\", base.Fitness, weights=(1.0,))\n",
        "\n",
        "# Creamos la clase Individual que representa a un individuo de nuestra población\n",
        "creator.create(\"Individual\", list, fitness=creator.FitnessMax)\n",
        "\n",
        "CANTIDAD_CHICOS = 4\n",
        "CANTIDAD_PROPIEDADES = 5\n",
        "\n",
        "# Registramos la función para crear individuos en el toolbox\n",
        "toolbox.register(\"individualCreator\", tools.initRepeat, creator.Individual, toolbox.zeroOrOne, CANTIDAD_CHICOS * CANTIDAD_PROPIEDADES * 2)\n",
        "\n",
        "# Registramos la función para crear la población en el toolbox\n",
        "toolbox.register(\"populationCreator\", tools.initRepeat, list, toolbox.individualCreator)\n",
        "\n",
        "# Registramos la función de fitness en el toolbox\n",
        "toolbox.register(\"evaluate\", funcionAptitud)"
      ],
      "execution_count": null,
      "outputs": []
    },
    {
      "cell_type": "code",
      "metadata": {
        "id": "kEHxD1y3SSzT"
      },
      "source": [
        "# BORRADOR Cruza\n",
        "population = toolbox.populationCreator(2)\n",
        "childAOriginal = population[0]\n",
        "childBOriginal = population[1]\n",
        "print('childA original: {}'.format(childAOriginal))\n",
        "print('childB original: {}'.format(childBOriginal))\n",
        "for childA, childB in zip (population[::2], population[1::2]): \n",
        "  #if random.random() < P_CROSSOVER: # Se decide si se hace la cruza o no. Ejemplo: random.random() => 0.5 < P_CROSSOVER = 0.9 => Se hace la cruza. random.random() retorna un valor decimal entre 0 y 1\n",
        "  result = toolbox.crossover([1,0,0,0], [0,1,1,1]) # La función crossover modifica los individuos \"in place\", tiene efecto de lado\n",
        "  print(result)"
      ],
      "execution_count": null,
      "outputs": []
    },
    {
      "cell_type": "code",
      "metadata": {
        "id": "dWIQ_wZjLu0q"
      },
      "source": [
        "# BORRADOR Cruza\n",
        "population = toolbox.populationCreator(2)\n",
        "childAOriginal = population[0]\n",
        "childBOriginal = population[1]\n",
        "print('childA original: {}'.format(childAOriginal))\n",
        "print('childB original: {}'.format(childBOriginal))\n",
        "for childA, childB in zip (population[::2], population[1::2]): \n",
        "  #if random.random() < P_CROSSOVER: # Se decide si se hace la cruza o no. Ejemplo: random.random() => 0.5 < P_CROSSOVER = 0.9 => Se hace la cruza. random.random() retorna un valor decimal entre 0 y 1\n",
        "  toolbox.crossover(childA, childB) # La función crossover modifica los individuos \"in place\", tiene efecto de lado\n",
        "  del childA.fitness.values # Debemos eliminar los valores de fitness de los hijos modificados ya que los mismos han sido alterados y no siguen siendo válidos\n",
        "  del childB.fitness.values\n",
        "  #print('childA: {}'.format(childA2))\n",
        "  print('childA cruzado: {}'.format(population[0]))\n",
        "  print(childAOriginal == population[0])\n",
        "  #print('childB: {}'.format(childB2))\n",
        "  print(childBOriginal == population[1])\n",
        "  print('childB cruzado: {}'.format((population[1])))"
      ],
      "execution_count": null,
      "outputs": []
    },
    {
      "cell_type": "code",
      "metadata": {
        "id": "hFh5j4t7JnUq"
      },
      "source": [
        "############ ESTRUCTURA DEL ALGORITMO GENÉTICO ############\n",
        "# 1. Creación de la población inicial\n",
        "#population = toolbox.populationCreator(POPULATION_SIZE)\n",
        "population = toolbox.populationCreator(3)\n",
        "generationCounter = 0"
      ],
      "execution_count": null,
      "outputs": []
    },
    {
      "cell_type": "code",
      "metadata": {
        "id": "VXRpbEtJagXn"
      },
      "source": [
        "# 2. Aplicación de la función de fitness (a cada individuo de la población)\n",
        "fitnessValues = list(map(toolbox.evaluate, population))"
      ],
      "execution_count": null,
      "outputs": []
    },
    {
      "cell_type": "code",
      "metadata": {
        "id": "Gh3yfPnRa7T7"
      },
      "source": [
        "# 3. Asociamos los individuos con su respectivo valor de fitness y armamos una lista de tuplas (individuo, valorFitness)\n",
        "# Recordar que un objeto Individual tiene un atributo de instancia llamado fitness del tipo creator.FitnessMax\n",
        "for individual, fitnessValue in zip(population, fitnessValues):\n",
        "  individual.fitness.values = fitnessValue"
      ],
      "execution_count": null,
      "outputs": []
    },
    {
      "cell_type": "code",
      "metadata": {
        "id": "DCnCFjVObI54"
      },
      "source": [
        "# 4. Obtenemos el primer valor de cada tupla de fitness (el único que usamos) para fines estadísticos\n",
        "fitnessValues = [individual.fitness.values[0] for individual in population]"
      ],
      "execution_count": null,
      "outputs": []
    },
    {
      "cell_type": "code",
      "metadata": {
        "id": "KUI-kfvLbNW7"
      },
      "source": [
        "# 5. Las estadísticas que vamos a considerar son el mayor valor de fitness y el promedio del valor de fitness de todos los individuos.\n",
        "# Ambas métricas se calcularán por cada generación, así que finalmente tendremos una lista de valores por cada una.\n",
        "maxFitnessValues = []\n",
        "meanFitnessValues = []\n",
        "bestIndividualsEachGeneration = [] "
      ],
      "execution_count": null,
      "outputs": []
    },
    {
      "cell_type": "code",
      "metadata": {
        "id": "bnIlExU4bTvF"
      },
      "source": [
        "# 6. Comenzamos a definir el bucle principal del algoritmo genético. \n",
        "# Lo primero que definimos son las condiciones de paro. En este caso tenemos dos: cuando se alcanza el número máximo de generaciones (MAX_GENERATIONS) o cuando\n",
        "# se obtiene un individuo que maximiza la función de fitness (funcionAptitud), es decir, alcanza un valor igual al número de reglas (CANTIDAD_REGLAS) ya que las cumple todas.\n",
        "CANTIDAD_REGLAS = 13\n",
        "while max(fitnessValues) < CANTIDAD_REGLAS and generationCounter < MAX_GENERATIONS:\n",
        "  # 7. Incrementamos en uno el contador de generaciones\n",
        "  generationCounter = generationCounter + 1\n",
        "  # 8. SELECCION: Aplicamos el operador de selección a la población actual // offspring = descendencia, hijos\n",
        "  offspring = toolbox.select(population, len(population))\n",
        "  \n",
        "  # 9. Clonamos la población filtrada (almacenada en la variable offspring) para poder aplicar los siguientes operadores genéticos sin alterar la población original\n",
        "  offspring = list(map(toolbox.clone, offspring))\n",
        "  # Nota: Si bien llamamos a esta lista offspring, en realidad todavía son clones de la generación actual. Para tener realmente descedencia debemos aplicar el operador de cruza\n",
        "  # 10. CRUZA: Aplicamos el operador de cruza (si se cumple la probabilidad)\n",
        "  for individualA, individualB in zip (offspring[::2], offspring[1::2]): \n",
        "    if random.random() < P_CROSSOVER: # Se decide si se hace la cruza o no. Ejemplo: random.random() => 0.5 < P_CROSSOVER = 0.9 => Se hace la cruza. random.random() retorna un valor decimal entre 0 y 1\n",
        "      toolbox.crossover(individualA, individualB) # La función crossover modifica los individuos \"in place\", tiene efecto de lado\n",
        "      # Debemos eliminar los valores de fitness de los hijos modificados ya que los mismos han sido alterados y no siguen siendo válidos\n",
        "      del individualA.fitness.values \n",
        "      del individualB.fitness.values\n",
        "  # 11. MUTACIÓN: Aplicamos el operador de mutación (si se cumple la probabilidad)\n",
        "  for candidateToMutate in offspring:\n",
        "    if random.random() < P_MUTATION:\n",
        "      if random.random() < 0.5:\n",
        "        toolbox.mutate(candidateToMutate) # La función mutate tiene efecto de lado, muta el individuo \"in place\". Por ejemplo, el individuo [1,0,1,0,0] podría resultar en el individuo [1,1,1,0,0]\n",
        "          # Nuevamente, debemos eliminar los valores de fitness del individuo que modificamos (en este caso mutamos) porque no sigue siendo válido: según el ejemplo anterior paso de valer 2 a valer 3, por lo que debe ser recalculada\n",
        "        del candidateToMutate.fitness.values\n",
        "  # 12. Los individuos que no se seleccionan para la cruza o la mutación permanecen inalterados, por lo que su valor de fitness se mantiene intacto y no necesita ser \n",
        "  # recalculado (hacerlo sería un desperdicio de procesamiento). Los individuos que hayan sido alterados tendrán su valor de fitness eliminado (porque así lo hicimos con del) y el mismo deberá \n",
        "  # ser calculado. Para decidir, entonces, sobre que individuos de la población resultante es necesario recalcular la función de fitness vamos a utilizar la propiedad fitness\n",
        "  # del objeto Individual: si está vacía la calculamos, sino la dejamos como está\n",
        "  freshIndividuals = [ind for ind in offspring if not ind.fitness.valid]\n",
        "  freshFitnessValues = list (map(toolbox.evaluate, freshIndividuals))\n",
        "  for individual, fitnessValue in zip(freshIndividuals, freshFitnessValues):\n",
        "    individual.fitness.values = fitnessValue\n",
        "  # 13. Reemplazamos la generación (población) actual con la nueva\n",
        "  population[:] = offspring\n",
        "  # 14. Recolectamos los valores de fitness actuales para las estadísticas. Dado que el valor de fitness de cada individuo es sólo el primer elemento de la tupla, lo seleccionamos usando [0]\n",
        "  fitnessValues = [ind.fitness.values[0] for ind in population]\n",
        "  # 15. Calculamos el valor de fitness máximo y el promedio de la presente generación\n",
        "  maxFitness = max(fitnessValues)\n",
        "  meanFitness = sum(fitnessValues) / len(population)\n",
        "  maxFitnessValues.append(maxFitness)\n",
        "  meanFitnessValues.append(meanFitness)\n",
        "  print(\"- Generation {}: MAX Fitness = {}, AVG Fitness = {}\".format(generationCounter, maxFitness, meanFitness))\n",
        "  # 16. También imprimimos el mejor individuo de la presente generación (el que tiene mayor valor de fitness, es decir, mayor cantidad de 1s)\n",
        "  bestIndex = fitnessValues.index(max(fitnessValues))\n",
        "  print(\"Best Individual = \", *population[bestIndex], \"\\n\")\n",
        "  # Agregamos el mejor individuo de la presente generación junto a su valor de fitness a la lista de mejores individuos\n",
        "  bestIndividualsEachGeneration.append((maxFitness, population[bestIndex]))\n",
        "\n",
        "# 18. Una vez que se cumple alguna condición de paro y el algoritmo genético mostramos las estadísticas de la corrida\n",
        "# Mejor individuo de toda la corrida (el mejor de todas las generaciones)\n",
        "mejorIndividuo = max(bestIndividualsEachGeneration, key = lambda i:i[0])\n",
        "print('Mejor Individuo de todas las generaciones: {}'.format(mejorIndividuo[1]))\n",
        "print('Mejor valor de Fitness de todas las generaciones: {}'.format(mejorIndividuo[0]))\n",
        "print('Mejor Individuo de todas las generaciones (JSON): {}'.format(parsearMejorIndividuo(mejorIndividuo[1])))\n",
        "# Grafico\n",
        "plt.plot(maxFitnessValues, color='red')\n",
        "plt.plot(meanFitnessValues, color='green')\n",
        "plt.xlabel('Generación')\n",
        "plt.ylabel('Máximo / Promedio Fitness')\n",
        "plt.title('Máximo y Promedio Fitness sobre generaciones')\n",
        "plt.show()\n"
      ],
      "execution_count": null,
      "outputs": []
    }
  ]
}